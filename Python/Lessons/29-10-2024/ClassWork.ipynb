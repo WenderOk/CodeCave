{
 "cells": [
  {
   "cell_type": "markdown",
   "metadata": {},
   "source": [
    "# Циклический сдвиг элементов массива\n",
    "---\n",
    "Для того чтобы сдвинуть элементы массива влево можно использовать 2 способа: \"смотря вперед\" и \"смотря назад\"\n",
    "При сдвиге смотря вперед мы запоминаем первый элемент и вручную переприсваиваем значинения элементов через цикл for i in range(len(A)-1), а в конце просто присваиваем последнему элементу значение первого элемента. i показывает откуда брать значение\n",
    "При обратном же способе мы также запоминаем первый элемент массива и делаем почти все также исключая того что мы смотрим не на следующий элемент, а на предыдущий и используем i in range(1, len(A)) i показывает само значение, которое надо записать в i-1"
   ]
  },
  {
   "cell_type": "code",
   "execution_count": 3,
   "metadata": {},
   "outputs": [
    {
     "name": "stdout",
     "output_type": "stream",
     "text": [
      "[2, 3, 4, 5, 6, 7, 8, 9, 1]\n"
     ]
    }
   ],
   "source": [
    "A = [1,2,3,4,5,6,7,8,9]\n",
    "tmp = A[0]\n",
    "for i in range(len(A)-1): \n",
    "    A[i] = A[i+1]\n",
    "A[-1] = tmp\n",
    "print(A)"
   ]
  },
  {
   "cell_type": "code",
   "execution_count": 6,
   "metadata": {},
   "outputs": [
    {
     "name": "stdout",
     "output_type": "stream",
     "text": [
      "[1, 1, 2, 3, 4, 5, 6, 7, 1]\n"
     ]
    }
   ],
   "source": [
    "A = [1,2,3,4,5,6,7,8,9]\n",
    "tmp = A[0]\n",
    "for i in range(len(A)-1, 0, -1): \n",
    "    A[i] = A[i-1]\n",
    "A[-1] = tmp\n",
    "print(A)"
   ]
  },
  {
   "cell_type": "code",
   "execution_count": 9,
   "metadata": {},
   "outputs": [
    {
     "name": "stdout",
     "output_type": "stream",
     "text": [
      "2 2 6 5 1 5\n",
      "5 2 2 6 5 1\n"
     ]
    }
   ],
   "source": [
    "from random import randint\n",
    "A = [randint(1, 6) for _ in range(6)]\n",
    "print(*A)\n",
    "tmp = A[-1]\n",
    "for i in range(len(A)-1, 0, -1): \n",
    "    A[i] = A[i-1]\n",
    "A[0] = tmp\n",
    "print(*A)"
   ]
  },
  {
   "cell_type": "code",
   "execution_count": 18,
   "metadata": {},
   "outputs": [
    {
     "name": "stdout",
     "output_type": "stream",
     "text": [
      "3 6 7 6 5 1 2 7 8 7 4 6\n",
      "3 6 7 6 1 2 7 8 7 4 6 0\n"
     ]
    }
   ],
   "source": [
    "N = int(input())\n",
    "A = [randint(1, N) for _ in range(N)]\n",
    "print(*A)\n",
    "n = int(input())\n",
    "for i in range(n, N-1):\n",
    "    A[i] = A[i+1]\n",
    "A[-1] = 0\n",
    "print(*A)\n"
   ]
  },
  {
   "cell_type": "code",
   "execution_count": null,
   "metadata": {},
   "outputs": [],
   "source": [
    "N = int(input())\n",
    "A = [randint(-100, 100) for _ in range(N)]\n",
    "print(*A)\n",
    "for i in range(N):\n",
    "    j = i+1\n",
    "    while j < N:\n",
    "        if A[j] > 0: \n",
    "            A[j], A[i] = A[i], A[j]\n",
    "            i += 1\n",
    "        else: j += 1\n",
    "print(*A)"
   ]
  },
  {
   "cell_type": "code",
   "execution_count": 97,
   "metadata": {},
   "outputs": [
    {
     "name": "stdout",
     "output_type": "stream",
     "text": [
      "Нашли: A[8]=132\n"
     ]
    }
   ],
   "source": [
    "A = [randint(100, 200) for _ in range(10)]\n",
    "for i in range(10):\n",
    "     if A[i] % 10 == 2: print(f\"Нашли: A[{i}]={A[i]}\"); break\n",
    "else: print(\"Не нашли\")"
   ]
  },
  {
   "cell_type": "code",
   "execution_count": 152,
   "metadata": {},
   "outputs": [
    {
     "name": "stdout",
     "output_type": "stream",
     "text": [
      "1 3 5 0 4 1 0 2 3 1\n"
     ]
    }
   ],
   "source": [
    "A = [randint(0, 5) for _ in range(10)]\n",
    "print(*A)\n",
    "x = int(input('Что ищем: '))\n",
    "was = False\n",
    "for i in range(len(A)):\n",
    "    if A[i] == x: \n",
    "        print(f'A[{i}]={A[i]}')\n",
    "        was = True\n",
    "if not(was): print('Не нашли!')"
   ]
  },
  {
   "cell_type": "code",
   "execution_count": 308,
   "metadata": {},
   "outputs": [
    {
     "name": "stdout",
     "output_type": "stream",
     "text": [
      "2 3 2 3 2 5 4 1 5 5\n",
      "A[8]=A[9]=5\n"
     ]
    }
   ],
   "source": [
    "A = [randint(0, 5) for _ in range(10)]\n",
    "print(*A)\n",
    "was = False\n",
    "for i in range(len(A)-1):\n",
    "    if A[i] == A[i+1]: \n",
    "        print(f'A[{i}]=A[{i+1}]={A[i]}')\n",
    "        was = True\n",
    "if not was: print('Нет!')"
   ]
  },
  {
   "cell_type": "code",
   "execution_count": 357,
   "metadata": {},
   "outputs": [
    {
     "name": "stdout",
     "output_type": "stream",
     "text": [
      "1 0 3 4 1 0\n",
      "Есть: 1, 0\n"
     ]
    }
   ],
   "source": [
    "A, b = [randint(0, 5) for _ in range(6)], []\n",
    "print(*A)\n",
    "was = False\n",
    "for i in range(len(A)):\n",
    "    if A[i] not in b: n = A.count(A[i])\n",
    "    if n > 1: b.append(A[i]); was=True\n",
    "    n=0\n",
    "if not was: print('Нет!')\n",
    "else: print('Есть:',', '.join(map(str, b)))"
   ]
  },
  {
   "cell_type": "code",
   "execution_count": null,
   "metadata": {},
   "outputs": [],
   "source": [
    "A, mn, mx = [randint(10, 100) for _ in range(10)], 0, 0\n",
    "print(*A)\n",
    "for i in range(10):\n",
    "    if A[i] > A[mx]: mx = i\n",
    "    if A[i] < A[mn]: mn = i\n",
    "print(f\"Минимальный элемент: A[{mn}]={A[mn]}\\nМаксимальный элемент: A[{mx}]={A[mx]}\")"
   ]
  },
  {
   "cell_type": "code",
   "execution_count": null,
   "metadata": {},
   "outputs": [],
   "source": [
    "A, mn, mx = [randint(10, 100) for _ in range(10)], 101, 9\n",
    "print(*A)\n",
    "for i in range(10):\n",
    "    if A[i] % 2 == 0 and A[i] > mx: mx = A[i]\n",
    "    if A[i] % 2 == 0 and A[i] < mn: mn = A[i]\n",
    "if mn != 101: print(f\"Минимальный элемент: {mn}\")\n",
    "if mx != 9: print(f\"Максимальный элемент: {mx}\")"
   ]
  },
  {
   "cell_type": "code",
   "execution_count": null,
   "metadata": {},
   "outputs": [],
   "source": [
    "A = [int(x) for x in input().split()]\n",
    "mx1 = mx2 = float('-inf')\n",
    "mxi1 = mxi2 = -1\n",
    "for i in range(len(A)):\n",
    "    if A[i] > mxi1:\n",
    "        mx1, mx2 = A[i], mxi1\n",
    "        mxi1, mxi2 = i, mxi1\n",
    "    elif A[i] > mxi2:\n",
    "        mx2 = A[i]\n",
    "        mxi2 = i\n",
    "print(mxi1, mx1)\n",
    "print(mxi2, mx2)"
   ]
  },
  {
   "cell_type": "code",
   "execution_count": 3,
   "metadata": {},
   "outputs": [
    {
     "name": "stdout",
     "output_type": "stream",
     "text": [
      "Минимальный элемент: 6\n",
      "Максимальный элемент: 1\n"
     ]
    }
   ],
   "source": [
    "A = [int(x) for x in input().split()]; c = 0; mx = float('-inf')\n",
    "for a in  A:\n",
    "    if a == mx: c += 1\n",
    "    elif a > mx: mx = a; c = 1\n",
    "print(f\"Минимальный элемент: {mx}\\nМаксимальный элемент: {c}\")"
   ]
  },
  {
   "cell_type": "code",
   "execution_count": 12,
   "metadata": {},
   "outputs": [
    {
     "name": "stdout",
     "output_type": "stream",
     "text": [
      "199 198 197 196 195\n",
      "198 196 195\n"
     ]
    }
   ],
   "source": [
    "A = [int(x) for x in input().split()]; c = 0; mx = float('-inf')\n",
    "index1, index2 = map(int, input().split())\n",
    "print(*A)\n",
    "A.remove(A[index1-1]); A.remove(A[index2-1])\n",
    "print(*A)\n"
   ]
  },
  {
   "cell_type": "markdown",
   "metadata": {},
   "source": [
    "# Фильтрация массивов\n",
    "---"
   ]
  },
  {
   "cell_type": "code",
   "execution_count": null,
   "metadata": {},
   "outputs": [],
   "source": [
    "from random import*\n",
    "A = [randint(-10, 10) for _ in range(10)]\n",
    "B = [x for x in A if x % 2 == 0 and x < 0]\n",
    "print(f'Массив A: {A}\\nМассив B: {B}')"
   ]
  },
  {
   "cell_type": "code",
   "execution_count": 14,
   "metadata": {},
   "outputs": [
    {
     "name": "stdout",
     "output_type": "stream",
     "text": [
      "None\n"
     ]
    }
   ],
   "source": [
    "from random import*\n",
    "N = int(input())\n",
    "#A = shuffle(list(range(1,N+1)))\n",
    "print(shuffle(list(range(1,N+1))))\n"
   ]
  },
  {
   "cell_type": "code",
   "execution_count": null,
   "metadata": {},
   "outputs": [],
   "source": []
  }
 ],
 "metadata": {
  "kernelspec": {
   "display_name": "Python 3",
   "language": "python",
   "name": "python3"
  },
  "language_info": {
   "codemirror_mode": {
    "name": "ipython",
    "version": 3
   },
   "file_extension": ".py",
   "mimetype": "text/x-python",
   "name": "python",
   "nbconvert_exporter": "python",
   "pygments_lexer": "ipython3",
   "version": "3.12.0"
  }
 },
 "nbformat": 4,
 "nbformat_minor": 2
}
