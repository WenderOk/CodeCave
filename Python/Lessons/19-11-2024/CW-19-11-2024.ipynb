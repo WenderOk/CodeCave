{
 "cells": [
  {
   "cell_type": "code",
   "execution_count": 1,
   "metadata": {},
   "outputs": [
    {
     "name": "stdout",
     "output_type": "stream",
     "text": [
      "9\n",
      "15\n",
      "17\n",
      "19\n"
     ]
    }
   ],
   "source": [
    "m,n = int(input()), int(input())\n",
    "for i in range(m, n+1):\n",
    "    if (i % 17 == 0) or (i % 10 == 9 ) or (i % 3 == 0 and i % 5 == 0): print(i)"
   ]
  },
  {
   "cell_type": "code",
   "execution_count": null,
   "metadata": {},
   "outputs": [
    {
     "name": "stdout",
     "output_type": "stream",
     "text": [
      " -150\n"
     ]
    }
   ],
   "source": [
    "a, b, p = int(input()), int(input()), 0\n",
    "for _ in range(abs(a)):\n",
    "    p+=b\n",
    "print('-'*(a>=0 ^ b >= 0), p)"
   ]
  },
  {
   "cell_type": "code",
   "execution_count": 7,
   "metadata": {},
   "outputs": [
    {
     "name": "stdout",
     "output_type": "stream",
     "text": [
      "355\n"
     ]
    }
   ],
   "source": [
    "a, b, s = int(input()), int(input()), 0\n",
    "for i in range(a, b+1):\n",
    "    if i**3%10==4 or i**3%10==9: s+=1\n",
    "print(s)"
   ]
  },
  {
   "cell_type": "code",
   "execution_count": 24,
   "metadata": {},
   "outputs": [
    {
     "name": "stdout",
     "output_type": "stream",
     "text": [
      "0.5822073316515288\n"
     ]
    }
   ],
   "source": [
    "from math import log\n",
    "n, s = int(input()), 1\n",
    "for i in range(2,n+1):\n",
    "    s += 1 / i\n",
    "print(s - log(n))"
   ]
  },
  {
   "cell_type": "code",
   "execution_count": null,
   "metadata": {},
   "outputs": [
    {
     "name": "stdout",
     "output_type": "stream",
     "text": [
      "ываыва\n",
      "ываыва\n",
      "ываыва\n",
      "рпарп\n",
      "ыва\n",
      "рва\n",
      "КОНЦЕ\n",
      "КОНЕЦ\n"
     ]
    }
   ],
   "source": [
    "word = ''\n",
    "while word != 'КОНЕЦ':\n",
    "    word = input()\n",
    "    print(word)"
   ]
  },
  {
   "cell_type": "code",
   "execution_count": null,
   "metadata": {},
   "outputs": [],
   "source": [
    "word = ''\n",
    "while word != 'КОНЕЦ' or word != 'конец':\n",
    "    word = input()\n",
    "    print(word)"
   ]
  },
  {
   "cell_type": "code",
   "execution_count": null,
   "metadata": {},
   "outputs": [],
   "source": [
    "n,c = int(input()),0\n",
    "c += n // 25\n",
    "c += (n % 25) // 15\n",
    "c += (n % 15) // 10\n",
    "c += (n % 10) // 5\n",
    "print(c)"
   ]
  }
 ],
 "metadata": {
  "kernelspec": {
   "display_name": "Python 3",
   "language": "python",
   "name": "python3"
  },
  "language_info": {
   "codemirror_mode": {
    "name": "ipython",
    "version": 3
   },
   "file_extension": ".py",
   "mimetype": "text/x-python",
   "name": "python",
   "nbconvert_exporter": "python",
   "pygments_lexer": "ipython3",
   "version": "3.12.0"
  }
 },
 "nbformat": 4,
 "nbformat_minor": 2
}
