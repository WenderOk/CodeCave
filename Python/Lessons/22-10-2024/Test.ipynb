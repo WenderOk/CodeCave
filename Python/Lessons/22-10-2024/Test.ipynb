{
 "cells": [
  {
   "cell_type": "markdown",
   "metadata": {},
   "source": [
    "# Случайные и псевдослучайные числа\n",
    "Не все случанйости случайны - они и есть псевдослучайности. Истинными случайностями можно назвать игральные кости и монеты.\n",
    "Случайные числа - такая последовательность чисел для которой невозможно предугодать следующее число.\n",
    "## Электронные случайные числа\n",
    "Для генерации случайных чисел в электроннике необходимо специальое устройство. А так в основном используются псевдослучайные числа.\n",
    "Псевдослучайные числа - последовательность чисел обладающая свойствами случайных чисел, но каждое следующее число вычисляется по заданной формуле"
   ]
  },
  {
   "cell_type": "code",
   "execution_count": 49,
   "metadata": {},
   "outputs": [],
   "source": [
    "from random import randint\n",
    "X = randint(1,6) # pseudu-random value\n",
    "Y = randint(1,6) # another random value"
   ]
  },
  {
   "cell_type": "code",
   "execution_count": 1,
   "metadata": {},
   "outputs": [],
   "source": [
    "from random import*\n",
    "X = random() # 0-1\n",
    "Y = random() # another 0-1"
   ]
  },
  {
   "cell_type": "code",
   "execution_count": 48,
   "metadata": {},
   "outputs": [
    {
     "data": {
      "text/plain": [
       "'c'"
      ]
     },
     "execution_count": 48,
     "metadata": {},
     "output_type": "execute_result"
    }
   ],
   "source": [
    "from random import*\n",
    "# We can choose the seed (by default its the system time)\n",
    "seed(5)\n",
    "# Random diaposon\n",
    "randrange(10, 1450+1, 5)\n",
    "# Random value from posledovatelnost\n",
    "choice('abcde')\n",
    "# Random mixing values\n",
    "#shuffle('abcde')"
   ]
  },
  {
   "cell_type": "code",
   "execution_count": 50,
   "metadata": {},
   "outputs": [
    {
     "name": "stdout",
     "output_type": "stream",
     "text": [
      "Получено число: 767\n",
      " Его цифры: 7, 6, 7\n"
     ]
    }
   ],
   "source": [
    "from random import randint\n",
    "a = randint(100, 999)\n",
    "print(f\"Получено число: {a}\\n Его цифры: {a//100}, {a%100//10}, {a%10}\")"
   ]
  },
  {
   "cell_type": "code",
   "execution_count": 6,
   "metadata": {},
   "outputs": [
    {
     "name": "stdout",
     "output_type": "stream",
     "text": [
      "Имя спортсмена (off - завершить):\n",
      "off, команда 2\n"
     ]
    }
   ],
   "source": [
    "from random import randint\n",
    "s,hint='','Имя спортсмена (off - завершить):\\n'\n",
    "while s!='off':\n",
    "    print(f\"{hint}{s}, команда {randint(1,2)}\")\n",
    "    s=input()"
   ]
  },
  {
   "cell_type": "code",
   "execution_count": 15,
   "metadata": {},
   "outputs": [
    {
     "name": "stdout",
     "output_type": "stream",
     "text": [
      "Число: 154\n",
      "Его квадрат: 23716\n"
     ]
    }
   ],
   "source": [
    "# Dices\n",
    "from random import randint\n",
    "a=''\n",
    "for _ in range(3):\n",
    "    a+=str(randint(1,6))\n",
    "print('Число: ', a,'\\n','Его квадрат: ',int(a)**2,sep='')"
   ]
  },
  {
   "cell_type": "code",
   "execution_count": 43,
   "metadata": {},
   "outputs": [
    {
     "name": "stdout",
     "output_type": "stream",
     "text": [
      "49 73 10 48 81 23 71 70 "
     ]
    }
   ],
   "source": [
    "from random import randint\n",
    "a,s=0,''\n",
    "for _ in range(8):\n",
    "    a = randint(1,90)\n",
    "    while str(a) in s.split(','):\n",
    "        a = randint(1,90)\n",
    "    print(a,end=' ')\n",
    "    s+=','+str(a)\n",
    "    "
   ]
  },
  {
   "cell_type": "markdown",
   "metadata": {},
   "source": [
    "## Массивы!\n",
    "list() создает списко из последовательностей. Срезы работают и с массивами"
   ]
  },
  {
   "cell_type": "code",
   "execution_count": 46,
   "metadata": {},
   "outputs": [
    {
     "name": "stdout",
     "output_type": "stream",
     "text": [
      "[1, 2, 3, 4, 5, 6, 7, 8, 9]\n"
     ]
    }
   ],
   "source": [
    "N = 10 #Size of array\n",
    "A = [ i for i in range(1,N) ]\n",
    "print(A)"
   ]
  },
  {
   "cell_type": "markdown",
   "metadata": {},
   "source": [
    "# Очень важная штука! Надо помнить"
   ]
  },
  {
   "cell_type": "code",
   "execution_count": 51,
   "metadata": {},
   "outputs": [
    {
     "name": "stdout",
     "output_type": "stream",
     "text": [
      "[0, 3, 6, 9, 12, 15, 18, 21, 24, 27, 30, 33, 36, 39, 42, 45, 48, 51, 54, 57, 60, 63, 66, 69, 72, 75, 78, 81, 84, 87, 90, 93, 96, 99]\n"
     ]
    }
   ],
   "source": [
    "# Списочные включения\n",
    "A = [i for i in range(100) if i % 3 == 0]\n",
    "print(A)"
   ]
  },
  {
   "cell_type": "code",
   "execution_count": 52,
   "metadata": {},
   "outputs": [
    {
     "name": "stdout",
     "output_type": "stream",
     "text": [
      "0 3 6 9 12 15 18 21 24 27 30 33 36 39 42 45 48 51 54 57 60 63 66 69 72 75 78 81 84 87 90 93 96 99\n"
     ]
    }
   ],
   "source": [
    "# Деструктор разбивает список на элементы\n",
    "print(*A)"
   ]
  },
  {
   "cell_type": "markdown",
   "metadata": {},
   "source": [
    "## Задача\n",
    "Ввести два натуральных числа а и б и заполнить массив из 10 элементов случайными числами в диапохоне от а до б"
   ]
  },
  {
   "cell_type": "code",
   "execution_count": 61,
   "metadata": {},
   "outputs": [
    {
     "name": "stdout",
     "output_type": "stream",
     "text": [
      "212 213 213 213 212 213 212 212 212 212\n"
     ]
    }
   ],
   "source": [
    "from random import randint\n",
    "a, b, A = int(input()), int(input()), [0]*10\n",
    "if a>b: a,b=b,a\n",
    "for i in range(10): A[i] = randint(a,b)\n",
    "print(*A)\n",
    "# Можно еще вот так\n",
    "A = [randint(a,b) for _ in range(10)]"
   ]
  },
  {
   "cell_type": "code",
   "execution_count": 1,
   "metadata": {},
   "outputs": [
    {
     "name": "stdout",
     "output_type": "stream",
     "text": [
      "68 121 52 150 75 4624 14641 2704 22500 5625\n"
     ]
    }
   ],
   "source": [
    "from random import randint\n",
    "a, b, A = int(input()), int(input()), [0]*10\n",
    "if a>b: a,b=b,a\n",
    "for i in range(10): \n",
    "    A[i] = randint(a,b)\n",
    "    if i>=5: A[i] = A[i-5]**2\n",
    "print(*A)"
   ]
  },
  {
   "cell_type": "code",
   "execution_count": null,
   "metadata": {},
   "outputs": [],
   "source": [
    "# Запись значений в массив через ввод\n",
    "data = input()\n",
    "s = data.split(' ')\n",
    "A = [int(x) for x in s]"
   ]
  },
  {
   "cell_type": "code",
   "execution_count": null,
   "metadata": {},
   "outputs": [],
   "source": [
    "# Упрощеный вариант\n",
    "A = [int(x) for x in input().split()]"
   ]
  },
  {
   "cell_type": "code",
   "execution_count": null,
   "metadata": {},
   "outputs": [],
   "source": [
    "# Через map() (не рекомендуется)\n",
    "A = list(map(int, input().split()))"
   ]
  },
  {
   "cell_type": "code",
   "execution_count": 10,
   "metadata": {},
   "outputs": [
    {
     "name": "stdout",
     "output_type": "stream",
     "text": [
      "\n"
     ]
    }
   ],
   "source": [
    "A,B = [int(x) for x in input().split()],[]\n",
    "for i in A:\n",
    "    if i in range(181,190): B.append(i)  \n",
    "print(*B)"
   ]
  },
  {
   "cell_type": "code",
   "execution_count": null,
   "metadata": {},
   "outputs": [],
   "source": [
    "A=[4,5,6]\n",
    "A.append(A)\n",
    "print(*A)"
   ]
  },
  {
   "cell_type": "code",
   "execution_count": null,
   "metadata": {},
   "outputs": [],
   "source": [
    "A,c = [int(x) for x in input().split()],0\n",
    "for n in A:\n",
    "    if n==0: c+=1\n",
    "print(c)"
   ]
  },
  {
   "cell_type": "code",
   "execution_count": null,
   "metadata": {},
   "outputs": [],
   "source": [
    "from random import randint\n",
    "c1=c2=s1=s2=0\n",
    "A = [randint(0, 100) for _ in range(10)]\n",
    "for n in A:\n",
    "    if n<50: c1+=1; s1+=n\n",
    "    else: c2+=1; s2+=n\n",
    "print(f'Ср. арифметическое элементов <50: {round(s1/c1,3)}')\n",
    "print(f'Ср. арифметическое элементов >=50: {round(s2/c2,3)}')"
   ]
  },
  {
   "cell_type": "markdown",
   "metadata": {},
   "source": [
    "## Методы массивов\n",
    "del удаляет любой объект безвозвратно\n",
    "pop(index) \"выдирает\" элемент из массива и возвращает его\n",
    "remove(value) удаляет определенное значение в массиве.\n",
    "\n",
    "В массивах также можно исопльзовать срезы\n",
    "\n",
    "Метод count() возвращает сколько раз свтречается значение в массиве\n",
    "\n",
    "Метод index() ищет и возвращает индекс элемента из списка\n",
    "\n",
    "join() вносит разделетели в строку"
   ]
  },
  {
   "cell_type": "code",
   "execution_count": null,
   "metadata": {},
   "outputs": [],
   "source": [
    "print(''.join(input().split(', ')))"
   ]
  },
  {
   "cell_type": "code",
   "execution_count": null,
   "metadata": {},
   "outputs": [],
   "source": [
    "A,c = input().lower().split(),0\n",
    "for i in A:\n",
    "    if i in ['a','an','the']: c+=1\n",
    "print(c)"
   ]
  },
  {
   "cell_type": "markdown",
   "metadata": {},
   "source": [
    "Как работают срезы в массивах и строках A[start:stop:step]\n",
    "Если ввести какой-то несуществующий диапозон, то вернется пустая последовательность\n",
    "\n",
    "Как развернуть массив: с помощью A[::-1] или через A.reverse() (рекмендуется)\n",
    "\n",
    "Поверхностное копирование происходит через метод copy() не копирует внутренние массивы массива т.е. не работает с матрицами. Для матриц есть метод deepcopy()\n",
    "\n",
    "метод extend() расширяет уже существующий массив добовляя другой массив A.extend(B)"
   ]
  },
  {
   "cell_type": "code",
   "execution_count": null,
   "metadata": {},
   "outputs": [],
   "source": [
    "N = int(input(\"Введите размер массива: \"))\n",
    "A = [1,1]\n",
    "for _ in range(N-2):\n",
    "    A.append(A[-2] + A[-1])\n",
    "print(*A)"
   ]
  },
  {
   "cell_type": "code",
   "execution_count": null,
   "metadata": {},
   "outputs": [],
   "source": [
    "A, N =[], int(input())\n",
    "for i in range(N):\n",
    "    A.extend([i]*i)\n",
    "print(*A[:N])"
   ]
  },
  {
   "cell_type": "code",
   "execution_count": null,
   "metadata": {},
   "outputs": [],
   "source": [
    "A = [randint(-10, 10) for _ in range(10)]\n",
    "print(*A)\n",
    "for i in range(len(A)//2):\n",
    "    A[i], A[-i] = A[-i], A[i]\n",
    "print(*A)"
   ]
  },
  {
   "cell_type": "code",
   "execution_count": null,
   "metadata": {},
   "outputs": [],
   "source": [
    "A = [randint(0, 100) for _ in range(10)]\n",
    "print(*A)\n",
    "A[:len(A)//2], A[len(A)//2:] = A[len(A)//2:], A[:len(A)//2]\n",
    "print(*A)"
   ]
  },
  {
   "cell_type": "code",
   "execution_count": 157,
   "metadata": {},
   "outputs": [
    {
     "name": "stdout",
     "output_type": "stream",
     "text": [
      "4 3 2 5 2\n",
      "3 4 2 5 2\n"
     ]
    }
   ],
   "source": [
    "N = int(input())\n",
    "A = [randint(0, N) for _ in range(N)]\n",
    "print(*A)\n",
    "for i in range(len(A)//4):\n",
    "    A[i], A[N//2-1-i] = A[N//2-1-i], A[i]\n",
    "    A[i+N//2], A[-i-1] = A[-i-1], A[i+N//2]\n",
    "print(*A)"
   ]
  }
 ],
 "metadata": {
  "kernelspec": {
   "display_name": "Python 3",
   "language": "python",
   "name": "python3"
  },
  "language_info": {
   "codemirror_mode": {
    "name": "ipython",
    "version": 3
   },
   "file_extension": ".py",
   "mimetype": "text/x-python",
   "name": "python",
   "nbconvert_exporter": "python",
   "pygments_lexer": "ipython3",
   "version": "3.12.0"
  }
 },
 "nbformat": 4,
 "nbformat_minor": 2
}
