{
 "cells": [
  {
   "cell_type": "markdown",
   "metadata": {},
   "source": [
    "# Процедуры (функции)\n",
    "Процедуры - это вспомогательный алгоритм, который выполняет некоторые действия."
   ]
  },
  {
   "cell_type": "code",
   "execution_count": null,
   "metadata": {},
   "outputs": [],
   "source": [
    "def printError():\n",
    "    print('Ошибка')"
   ]
  },
  {
   "cell_type": "code",
   "execution_count": null,
   "metadata": {},
   "outputs": [
    {
     "name": "stdout",
     "output_type": "stream",
     "text": [
      "1011001"
     ]
    }
   ],
   "source": [
    "def printBIN(N):\n",
    "    k = 128\n",
    "    while k>=2:\n",
    "        print(N//k, end='')\n",
    "        N%=k\n",
    "        k//=2\n",
    "printBIN(178)"
   ]
  },
  {
   "cell_type": "code",
   "execution_count": null,
   "metadata": {},
   "outputs": [
    {
     "name": "stdout",
     "output_type": "stream",
     "text": [
      "--------------------------------------------------"
     ]
    }
   ],
   "source": [
    "def printer(N):\n",
    "    print('-'*N)\n",
    "printer(int(input()))"
   ]
  },
  {
   "cell_type": "code",
   "execution_count": 18,
   "metadata": {},
   "outputs": [
    {
     "name": "stdout",
     "output_type": "stream",
     "text": [
      "[-6, 3, -4, 1, -6, 7, -4, -4, -10, 6]\n"
     ]
    }
   ],
   "source": [
    "import random\n",
    "def listGen(N):\n",
    "    A = [(random.randint(-10,10)) for _ in range(random.randint(1,N))]\n",
    "    print(A)\n",
    "listGen(int(input()))"
   ]
  },
  {
   "cell_type": "code",
   "execution_count": 19,
   "metadata": {},
   "outputs": [
    {
     "name": "stdout",
     "output_type": "stream",
     "text": [
      "4\n",
      "3\n",
      "2\n",
      "1\n"
     ]
    }
   ],
   "source": [
    "def ab(N):\n",
    "    for _ in range(len(str(N))):\n",
    "        print(N%10)\n",
    "        N//=10\n",
    "ab(int(input()))"
   ]
  },
  {
   "cell_type": "markdown",
   "metadata": {},
   "source": [
    "# Функции"
   ]
  },
  {
   "cell_type": "code",
   "execution_count": null,
   "metadata": {},
   "outputs": [],
   "source": []
  }
 ],
 "metadata": {
  "kernelspec": {
   "display_name": "Python 3",
   "language": "python",
   "name": "python3"
  },
  "language_info": {
   "codemirror_mode": {
    "name": "ipython",
    "version": 3
   },
   "file_extension": ".py",
   "mimetype": "text/x-python",
   "name": "python",
   "nbconvert_exporter": "python",
   "pygments_lexer": "ipython3",
   "version": "3.12.6"
  }
 },
 "nbformat": 4,
 "nbformat_minor": 2
}
