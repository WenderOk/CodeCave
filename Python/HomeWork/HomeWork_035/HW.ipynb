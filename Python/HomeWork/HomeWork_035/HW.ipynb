{
 "cells": [
  {
   "cell_type": "markdown",
   "metadata": {},
   "source": [
    "# Номер телфона\n",
    "---\n",
    "Нужно больше ~~золота~~ if'ов"
   ]
  },
  {
   "cell_type": "code",
   "execution_count": null,
   "metadata": {},
   "outputs": [
    {
     "name": "stdout",
     "output_type": "stream",
     "text": [
      "False\n"
     ]
    }
   ],
   "source": [
    "def isValidNumber(phone):\n",
    "    if (len(phone) == 16) and (phone[0] == '+' and phone[1] == '7') and (phone[2] == '(') and (phone[3:6].isdigit()) and (phone[6] == ')') and (phone[7].isdigit()) and (phone[10] == '-' and phone[13] == '-') and (phone[8:10].isdigit() and phone[11:13].isdigit() and phone[14:16].isdigit()):\n",
    "        return True\n",
    "    else: return False\n",
    "print(isValidNumber(input(\"Введите номер телефона: \")))"
   ]
  },
  {
   "cell_type": "markdown",
   "metadata": {},
   "source": [
    "# Координаты точек\n",
    "---"
   ]
  },
  {
   "cell_type": "code",
   "execution_count": 13,
   "metadata": {},
   "outputs": [
    {
     "name": "stdout",
     "output_type": "stream",
     "text": [
      "Расстояние между точками (1, 2) и (4, 6): 5.00\n",
      "Ближайшая точка к (0, 0): (0, 0)\n",
      "Повернутые точки: [(-2, 1), (-4, -3), (6, 5), (0, 0)]\n"
     ]
    }
   ],
   "source": [
    "from math import*\n",
    "points = [(1, 2), (-3, 4), (5, -6), (0, 0)]\n",
    "point1 = (1, 2); point2 = (4, 6)\n",
    "target_point = (0, 0); angle = radians(90)\n",
    " \n",
    "def calculate_distance(point1, point2):\n",
    "    return sqrt((point2[0] - point1[0])**2 + (point2[1] - point1[1])**2)\n",
    "def find_closest_point(points, target_point):\n",
    "    closestPoint = ()\n",
    "    closestDist = float('inf')\n",
    "    for point in points:\n",
    "        if sqrt((target_point[0] - point[0])**2 + (target_point[1] - point[1])**2) < closestDist: closestPoint = point; closestDist = sqrt((target_point[0] - point[0])**2 + (target_point[1] - point[1])**2)\n",
    "    return closestPoint\n",
    "def rotate_points(points, angle):\n",
    "    for i in range(len(points)):\n",
    "        x = points[i][0]; y = points[i][1]\n",
    "        points[i] = (round(cos(angle)*x - sin(angle)*y), round(sin(angle)*x + cos(angle)*y))\n",
    "    return(points)\n",
    "\n",
    "distance = calculate_distance(point1, point2)\n",
    "closest_point = find_closest_point(points, target_point)\n",
    "rotated_points = rotate_points(points, angle)\n",
    "print(f\"Расстояние между точками {point1} и {point2}: {distance:.2f}\")\n",
    "print(f\"Ближайшая точка к {target_point}: {closest_point}\")\n",
    "print(f\"Повернутые точки: {rotated_points}\")"
   ]
  },
  {
   "cell_type": "markdown",
   "metadata": {},
   "source": [
    "# Киношечка и 2 пропавших пользователя\n",
    "---"
   ]
  },
  {
   "cell_type": "code",
   "execution_count": 20,
   "metadata": {},
   "outputs": [
    {
     "name": "stdout",
     "output_type": "stream",
     "text": [
      "5 7\n"
     ]
    }
   ],
   "source": [
    "def findMissingNums(n, N):\n",
    "    missing = []\n",
    "    for i in range(n+1):\n",
    "        if i!=0 and not(i in N): missing.append(i)\n",
    "    return missing\n",
    "print(*findMissingNums(int(input()), {int(x) for x in input().split()}))"
   ]
  },
  {
   "cell_type": "markdown",
   "metadata": {},
   "source": [
    "# Забастовки\n",
    "---"
   ]
  },
  {
   "cell_type": "code",
   "execution_count": null,
   "metadata": {},
   "outputs": [
    {
     "name": "stdout",
     "output_type": "stream",
     "text": [
      "Дней в календаре: 365\n",
      "Количество партий: 2\n",
      "а и b для каждой партии: [(1, 1), (1, 1)]\n",
      "Дней в реестре: 261\n"
     ]
    }
   ],
   "source": [
    "N, k, AandB = int(input()), int(input()), []\n",
    "def countStrikes(N, strikes):\n",
    "    register = set()\n",
    "    for a, b in strikes:\n",
    "        day = a\n",
    "        while day <= N:\n",
    "            if (day - 1) % 7 != 5 and (day - 1) % 7 != 6: register.add(day)\n",
    "            day += b\n",
    "    return len(register)\n",
    "for _ in range(k):\n",
    "    a, b = map(int, input().split())\n",
    "    AandB.append((a, b))\n",
    "print(f'Дней в календаре: {N}\\nКоличество партий: {k}\\nа и b для каждой партии: {AandB}\\nДней в реестре: {countStrikes(N, AandB)}')"
   ]
  },
  {
   "cell_type": "code",
   "execution_count": 1,
   "metadata": {},
   "outputs": [
    {
     "name": "stdout",
     "output_type": "stream",
     "text": [
      "4\n"
     ]
    }
   ],
   "source": [
    "N,k=map(int,input().split())\n",
    "c=set()\n",
    "for _ in range(k):\n",
    "    a,b=map(int,input().split())\n",
    "    for i in range(a,N+1,b):\n",
    "        if not(i//7==0 or i%7==6): \n",
    "            c.add(i)\n",
    "print(len(c))"
   ]
  }
 ],
 "metadata": {
  "kernelspec": {
   "display_name": "Python 3",
   "language": "python",
   "name": "python3"
  },
  "language_info": {
   "codemirror_mode": {
    "name": "ipython",
    "version": 3
   },
   "file_extension": ".py",
   "mimetype": "text/x-python",
   "name": "python",
   "nbconvert_exporter": "python",
   "pygments_lexer": "ipython3",
   "version": "3.12.6"
  }
 },
 "nbformat": 4,
 "nbformat_minor": 2
}
