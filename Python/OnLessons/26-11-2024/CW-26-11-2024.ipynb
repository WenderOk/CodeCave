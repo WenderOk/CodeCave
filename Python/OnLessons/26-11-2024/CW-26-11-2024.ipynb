{
 "cells": [
  {
   "cell_type": "markdown",
   "metadata": {},
   "source": [
    "# Урок 26-11-2024"
   ]
  },
  {
   "cell_type": "code",
   "execution_count": 14,
   "metadata": {},
   "outputs": [
    {
     "name": "stdout",
     "output_type": "stream",
     "text": [
      "Молоко (в пакетах) - 3 шт\n",
      "Печенье (в пакетах) - 4 шт\n"
     ]
    }
   ],
   "source": [
    "k = int(input())\n",
    "tr = input()\n",
    "с = tr.count('2')\n",
    "print(f\"Молоко (в пакетах) - {-(-(с*200)//900)} шт\")\n",
    "print(f\"Печенье (в пакетах) - {-(-(с*4)//10)} шт\")"
   ]
  },
  {
   "cell_type": "code",
   "execution_count": 16,
   "metadata": {},
   "outputs": [
    {
     "name": "stdout",
     "output_type": "stream",
     "text": [
      "69696\n"
     ]
    }
   ],
   "source": [
    "s = 121\n",
    "for i in range(1, 11):\n",
    "    s -= i**2\n",
    "print(s**2)"
   ]
  },
  {
   "cell_type": "code",
   "execution_count": 11,
   "metadata": {},
   "outputs": [
    {
     "name": "stdout",
     "output_type": "stream",
     "text": [
      "НЭТ\n"
     ]
    }
   ],
   "source": [
    "from math import factorial\n",
    "a = int(input())\n",
    "for i in range(a):\n",
    "    if factorial(i) == a: \n",
    "        print(i)\n",
    "        break\n",
    "else: print(\"НЭТ\")"
   ]
  },
  {
   "cell_type": "code",
   "execution_count": 5,
   "metadata": {},
   "outputs": [
    {
     "name": "stdout",
     "output_type": "stream",
     "text": [
      "15\n"
     ]
    }
   ],
   "source": [
    "N, s = int(input()), 0\n",
    "for _ in range(N):\n",
    "    i = int(input())\n",
    "    a = i\n",
    "    while a > 0:\n",
    "        s += a % 10\n",
    "        a //= 10\n",
    "print(s)"
   ]
  },
  {
   "cell_type": "code",
   "execution_count": 13,
   "metadata": {},
   "outputs": [
    {
     "name": "stdout",
     "output_type": "stream",
     "text": [
      "2\n"
     ]
    }
   ],
   "source": [
    "N,s = int(input()),0\n",
    "for _ in range(N):\n",
    "    word = input()\n",
    "    while word != \"ВСЁ\":\n",
    "        if word == \"зайка\": \n",
    "            s+=1\n",
    "            break\n",
    "print(s)"
   ]
<<<<<<< HEAD
  },
  {
   "cell_type": "code",
   "execution_count": 21,
   "metadata": {},
   "outputs": [
    {
     "name": "stdout",
     "output_type": "stream",
     "text": [
      "1223334444555556666667777777"
     ]
    }
   ],
   "source": [
    "N = int (input())\n",
    "for i in range(N+1):\n",
    "    print(str(i)*i, end='')"
   ]
  },
  {
   "cell_type": "code",
   "execution_count": null,
   "metadata": {},
   "outputs": [
    {
     "name": "stdout",
     "output_type": "stream",
     "text": [
      "12\n",
      "6800\n"
     ]
    }
   ],
   "source": [
    "A=[]\n",
    "for i in range(1045,7017):\n",
    "    if (i % 100 % 10) != 3 and (i%17==0) and (i%20==0) and (i%3!=0):A.append(i)\n",
    "print(len(A))\n",
    "print(max(A))"
   ]
=======
>>>>>>> cca9d046ec1091070382911d4b54341a65516c9c
  }
 ],
 "metadata": {
  "kernelspec": {
   "display_name": "Python 3",
   "language": "python",
   "name": "python3"
  },
  "language_info": {
   "codemirror_mode": {
    "name": "ipython",
    "version": 3
   },
   "file_extension": ".py",
   "mimetype": "text/x-python",
   "name": "python",
   "nbconvert_exporter": "python",
   "pygments_lexer": "ipython3",
   "version": "3.12.0"
  }
 },
 "nbformat": 4,
 "nbformat_minor": 2
}
