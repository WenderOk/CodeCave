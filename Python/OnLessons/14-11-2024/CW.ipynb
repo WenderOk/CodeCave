{
 "cells": [
  {
   "cell_type": "markdown",
   "metadata": {},
   "source": [
    "# Множество, кортежи и прочее"
   ]
  },
  {
   "cell_type": "code",
   "execution_count": 2,
   "metadata": {},
   "outputs": [
    {
     "data": {
      "text/plain": [
       "(5, 10, 15)"
      ]
     },
     "execution_count": 2,
     "metadata": {},
     "output_type": "execute_result"
    }
   ],
   "source": [
    "def SortByValue(a,b,c):\n",
    "    mx = max(a,b,c)\n",
    "    mn = min(a,b,c)\n",
    "    mid = (a + b + c)-mx-mn\n",
    "    return mn, mid, mx\n",
    "a,b,c = map(int, input().split())\n",
    "SortByValue(a,b,c)"
   ]
  },
  {
   "cell_type": "code",
   "execution_count": 11,
   "metadata": {},
   "outputs": [
    {
     "name": "stdout",
     "output_type": "stream",
     "text": [
      "True\n"
     ]
    }
   ],
   "source": [
    "def IsPrime(n):\n",
    "    if n % 2 == 0: return n == 2\n",
    "    for i in range(3,n,2):\n",
    "        if n % i == 0: return False\n",
    "    return True\n",
    "print(IsPrime(int(input())))"
   ]
  },
  {
   "cell_type": "markdown",
   "metadata": {},
   "source": [
    "Мы можем указать тип данных для аргумента def func(a: int)\n",
    "Также можно указать значиние по умолчанию def func(a: int = 1)"
   ]
  },
  {
   "cell_type": "code",
   "execution_count": null,
   "metadata": {},
   "outputs": [],
   "source": [
    "def isDivisiblebyAll(A,x):\n",
    "    for n in A:\n",
    "        if not(n >= 0 and int(n) == n and x % n == 0): return False\n",
    "    return True\n",
    "print(isDivisiblebyAll([int(x) for x in input().split()], int(input())))\n",
    "        "
   ]
  },
  {
   "cell_type": "code",
   "execution_count": null,
   "metadata": {},
   "outputs": [
    {
     "name": "stdout",
     "output_type": "stream",
     "text": [
      "True\n"
     ]
    }
   ],
   "source": [
    "def isPowerN(K,N):\n",
    "    i=1\n",
    "    while N < K:\n",
    "        N = N**i\n",
    "        if N == K: return True\n",
    "        i += 1\n",
    "    return N**i==K \n",
    "N = int(input()); k=0\n",
    "for a in [int(z) for z in input().split()]:\n",
    "    if isPowerN(a,N): k+=1\n",
    "print(k)"
   ]
  },
  {
   "cell_type": "markdown",
   "metadata": {},
   "source": [
    "# Кортежи\n",
    "---\n",
    "-это те же самые массивы, но только не изменяемые\n",
    "Объявляется таким образом: А = (1, 2)\n",
    "tuple() переводит массив/последовательность в кортеж\n",
    "Кортежи также можно склеивать (1,2,3) + (а,б,с) = (1,2,3,а,б,с)\n",
    "Имеет только 2 метода: index(), count()\n",
    "С помощью *args можно передавть функции кортеж их любого количества переменных"
   ]
  },
  {
   "cell_type": "code",
   "execution_count": 37,
   "metadata": {},
   "outputs": [
    {
     "data": {
      "text/plain": [
       "(3, 8)"
      ]
     },
     "execution_count": 37,
     "metadata": {},
     "output_type": "execute_result"
    }
   ],
   "source": [
    "def VectorSum(a,b):\n",
    "    return tuple(a[i] + b[i] for i in range(len(a)))\n",
    "VectorSum((1, 5), (2, 3))"
   ]
  },
  {
   "cell_type": "markdown",
   "metadata": {},
   "source": [
    "zip() - метод который собирает из двух поселдовательностей кортежи-пары и создает массив из кортежей. Если передаваемые последовательности разных размеров, то тогда zip() возьмет по минимуму"
   ]
  },
  {
   "cell_type": "code",
   "execution_count": null,
   "metadata": {},
   "outputs": [],
   "source": [
    "N = 9; p = 9\n",
    "q = 5; M = 14\n",
    "A = ((9,4,14,5), (16,4,9,5))\n",
    "for N, p, M, q in A:\n",
    "    s= str(p)*N + str(q)*M\n",
    "    while '444' in s or '888' in s:\n",
    "        s = s.replace('444','8',1)\n",
    "        s = s.replace('555','8',1)\n",
    "        s = s.replace('888','3',1)\n",
    "    print(s)"
   ]
  },
  {
   "cell_type": "markdown",
   "metadata": {},
   "source": [
    "# Множства \n",
    "---\n",
    "-это неизменяемые последовательности, которые не повторяются\n",
    "Объявляется таким образом: А = {1, 2, 3}\n",
    "Множества также можно склеивать {1,2,3} | {а,б,с} = {1,2,3,а,б,с}\n",
    "Имеет только 2 метода: add(), remove()\n",
    "С помощью *args можно передавать функции множества любого количества переменных\n",
    "Массив можно превратить в множество с помощью set()\n",
    "Оператор '|' объеденяет множества \n",
    "Пересечений множнств вычисляется оператором & \n",
    "Исключающее ИЛИ это ^\n",
    "frozenset - замороженное множество которое нельзя изменять \n",
    "В множества можно добавлять элементы с помощью add() \n",
    "Импликация реализуется с помощью B | C - (A - C & B)"
   ]
  },
  {
   "cell_type": "markdown",
   "metadata": {},
   "source": [
    "# Методы множеств\n",
    "dircard() - удаляет элемент из множества если есть ли он или нет\n",
    "remove() - удаляет элемент из множества если он есть\n",
    "update() - добовляет последовательность в множество\n",
    "union() - объеденение множеств возвращает новое множество\n",
    "intersection() - пересечение множеств\n",
    "issubset() - подмножество ли\n",
    "issuperset() -содержит ли множество\n",
    "isdisjoint() - не пересекаются ли\n"
   ]
  },
  {
   "cell_type": "code",
   "execution_count": null,
   "metadata": {},
   "outputs": [
    {
     "name": "stdout",
     "output_type": "stream",
     "text": [
      "sigma\n"
     ]
    }
   ],
   "source": [
    "A = {s for s in input().split(', ')}\n",
    "B = {s for s in input().split(', ')}\n",
    "print(*(A & B), sep=', ')"
   ]
  },
  {
   "cell_type": "code",
   "execution_count": null,
   "metadata": {},
   "outputs": [],
   "source": [
    "A = {s for s in input().split(', ')}\n",
    "B = {s for s in input().split(', ')}\n",
    "print(*(A - B), sep=', ')"
   ]
  },
  {
   "cell_type": "code",
   "execution_count": 53,
   "metadata": {},
   "outputs": [
    {
     "name": "stdout",
     "output_type": "stream",
     "text": [
      "gh\n"
     ]
    }
   ],
   "source": [
    "A = {s for s in input().split(', ')}\n",
    "B = {s for s in input().split(', ')}\n",
    "print(*(A ^ B), sep=', ')"
   ]
  },
  {
   "cell_type": "code",
   "execution_count": 54,
   "metadata": {},
   "outputs": [
    {
     "name": "stdout",
     "output_type": "stream",
     "text": [
      "doga, fg, soga, aboba, as, sd\n"
     ]
    }
   ],
   "source": [
    "A = {s for s in input().split(', ')}\n",
    "B = {s for s in input().split(', ')}\n",
    "print(*(A | B), sep=', ')"
   ]
  },
  {
   "cell_type": "code",
   "execution_count": 56,
   "metadata": {},
   "outputs": [
    {
     "name": "stdout",
     "output_type": "stream",
     "text": [
      "NO\n"
     ]
    }
   ],
   "source": [
    "A = {s for s in input().split()}\n",
    "B = {s for s in input().split()}\n",
    "if A==B: print('YES')\n",
    "else: print('NO')"
   ]
  },
  {
   "cell_type": "code",
   "execution_count": null,
   "metadata": {},
   "outputs": [],
   "source": [
    "n1 = int(input())\n",
    "slov, words = set({}), set({})\n",
    "for _ in range(n1):\n",
    "    slov.add(input().lower().split(\" \"))\n",
    "n2 = int(input())\n",
    "for _ in range(n1):\n",
    "    words.add(input().lower().split(\" \"))\n",
    "print(words-(slov-words))"
   ]
  },
  {
   "cell_type": "code",
   "execution_count": 66,
   "metadata": {},
   "outputs": [
    {
     "name": "stdout",
     "output_type": "stream",
     "text": [
      "6.07\n"
     ]
    }
   ],
   "source": [
    "from time import*\n",
    "n=1\n",
    "t1=time()\n",
    "while n!=0:\n",
    "    n = int(input())\n",
    "print(round(time()-t1, 2))\n",
    "    "
   ]
  }
 ],
 "metadata": {
  "kernelspec": {
   "display_name": "Python 3",
   "language": "python",
   "name": "python3"
  },
  "language_info": {
   "codemirror_mode": {
    "name": "ipython",
    "version": 3
   },
   "file_extension": ".py",
   "mimetype": "text/x-python",
   "name": "python",
   "nbconvert_exporter": "python",
   "pygments_lexer": "ipython3",
   "version": "3.12.0"
  }
 },
 "nbformat": 4,
 "nbformat_minor": 2
}
