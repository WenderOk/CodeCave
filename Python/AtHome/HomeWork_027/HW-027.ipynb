{
 "cells": [
  {
   "cell_type": "markdown",
   "metadata": {},
   "source": [
    "# Задача 1\n",
    "---"
   ]
  },
  {
   "cell_type": "code",
   "execution_count": 5,
   "metadata": {},
   "outputs": [
    {
     "name": "stdout",
     "output_type": "stream",
     "text": [
      "[0, 0, 0.5, 0.5, 0.5, 1, 1]\n"
     ]
    }
   ],
   "source": [
    "A = [float(x) for x in input().split()]\n",
    "for i in range(len(A)):\n",
    "    if A[i] > 0.9: A[i] = 1\n",
    "    elif A[i] < 0.1: A[i] = 0\n",
    "    else: A[i] = 0.5\n",
    "print(A)"
   ]
  },
  {
   "cell_type": "markdown",
   "metadata": {},
   "source": [
    "# Задача 2\n",
    "---"
   ]
  },
  {
   "cell_type": "code",
   "execution_count": null,
   "metadata": {},
   "outputs": [
    {
     "name": "stdout",
     "output_type": "stream",
     "text": [
      "ааААббББ\n",
      "ббББааАА\n"
     ]
    }
   ],
   "source": [
    "# Да я подсмотрел методы ord() и chr() в задании с генератором паролей. Мне показалось решение более удобным чем несколько if'ов\n",
    "A = [x for x in input()]\n",
    "print(*A, sep=\"\")\n",
    "A = [ord(x) for x in A]\n",
    "for i in range(len(A)):\n",
    "    if A[i] == 1073 or A[i] == 1041: A[i] -= 1\n",
    "    elif A[i] == 1072 or A[i] == 1040: A[i] += 1\n",
    "A = [chr(x) for x in A]\n",
    "print(*A, sep=\"\")"
   ]
  },
  {
   "cell_type": "markdown",
   "metadata": {},
   "source": [
    "# Задача 3\n",
    "---"
   ]
  },
  {
   "cell_type": "code",
   "execution_count": 1,
   "metadata": {},
   "outputs": [
    {
     "name": "stdout",
     "output_type": "stream",
     "text": [
      "aaaaaaaaaaabbbbbbbbbbboooooooooooobbbbbbbbbbaaaaaaaaaaa\n",
      "aboba\n"
     ]
    }
   ],
   "source": [
    "A, B = [x for x in input(\"Введите исходную строку: \")], []\n",
    "if A[-1] == A[0]: B.append(A[0])\n",
    "for i in range(len(A)):\n",
    "    if A[i-1] != A[i]: B.append(A[i])\n",
    "print(*A, sep=\"\")\n",
    "print(*B, sep=\"\")"
   ]
  }
 ],
 "metadata": {
  "kernelspec": {
   "display_name": "Python 3",
   "language": "python",
   "name": "python3"
  },
  "language_info": {
   "codemirror_mode": {
    "name": "ipython",
    "version": 3
   },
   "file_extension": ".py",
   "mimetype": "text/x-python",
   "name": "python",
   "nbconvert_exporter": "python",
   "pygments_lexer": "ipython3",
   "version": "3.12.6"
  }
 },
 "nbformat": 4,
 "nbformat_minor": 2
}
