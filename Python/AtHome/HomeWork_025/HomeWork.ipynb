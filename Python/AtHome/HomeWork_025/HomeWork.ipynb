{
 "cells": [
  {
   "cell_type": "markdown",
   "metadata": {},
   "source": [
    "# Задача 1\n",
    "В задании не было уточенено считаются ли первый элемент, равный сам себе и последний элемент, делящийся сам на себя без остатка. Я их не учитывал если что."
   ]
  },
  {
   "cell_type": "code",
   "execution_count": 3,
   "metadata": {},
   "outputs": [
    {
     "name": "stdout",
     "output_type": "stream",
     "text": [
      "Числа равные первому элементу.\n",
      "Количество: 3\n",
      "Сумма: 63\n",
      "Среднее арифметическое: 21.0\n"
     ]
    }
   ],
   "source": [
    "# Задача 1 пункт a\n",
    "A,c,s = [int(x) for x in input('Введите последовательность чисел: ').split()],0,0\n",
    "for n in A: \n",
    "    if n == A[0]: c+=1; s+=n\n",
    "c-=1; s-=A[0]\n",
    "print('Числа равные первому элементу.')\n",
    "if c!=0: print(f\"Количество: {c}\\nСумма: {s}\\nСреднее арифметическое: {s/c}\")\n",
    "else: print('Таких чисел нет!')"
   ]
  },
  {
   "cell_type": "code",
   "execution_count": 4,
   "metadata": {},
   "outputs": [
    {
     "name": "stdout",
     "output_type": "stream",
     "text": [
      "Числа меньше первого элемента.\n",
      "Количество: 4\n",
      "Сумма: 8\n",
      "Среднее арифметическое: 2.0\n"
     ]
    }
   ],
   "source": [
    "# Задача 1 пункт b\n",
    "A,c,s = [int(x) for x in input('Введите последовательность чисел: ').split()],0,0\n",
    "for n in A: \n",
    "    if n < A[0]: c+=1; s+=n\n",
    "print('Числа меньше первого элемента.')\n",
    "if c!=0: print(f\"Количество: {c}\\nСумма: {s}\\nСреднее арифметическое: {s/c}\")\n",
    "else: print('Таких чисел нет!')"
   ]
  },
  {
   "cell_type": "code",
   "execution_count": 5,
   "metadata": {},
   "outputs": [
    {
     "name": "stdout",
     "output_type": "stream",
     "text": [
      "Числа больше последнего элемента.\n",
      "Количество: 4\n",
      "Сумма: 1374\n",
      "Среднее арифметическое: 343.5\n"
     ]
    }
   ],
   "source": [
    "# Задача 1 пункт с\n",
    "A,c,s = [int(x) for x in input('Введите последовательность чисел: ').split()],0,0\n",
    "for n in A: \n",
    "    if n > A[len(A)-1]: c+=1; s+=n\n",
    "print('Числа больше последнего элемента.')\n",
    "if c!=0: print(f\"Количество: {c}\\nСумма: {s}\\nСреднее арифметическое: {s/c}\")\n",
    "else: print('Таких чисел нет!')"
   ]
  },
  {
   "cell_type": "code",
   "execution_count": 7,
   "metadata": {},
   "outputs": [
    {
     "name": "stdout",
     "output_type": "stream",
     "text": [
      "Числа меньше предыдущего элемента.\n",
      "Количество: 1\n",
      "Сумма: 98\n",
      "Среднее арифметическое: 98.0\n"
     ]
    }
   ],
   "source": [
    "# Задача 1 пункт d\n",
    "A,c,s = [int(x) for x in input('Введите последовательность чисел: ').split()],0,0\n",
    "for i in range(len(A)): \n",
    "    if A[i] < A[i-1] and i != 0: c+=1; s+=A[i]\n",
    "print('Числа меньше предыдущего элемента.')\n",
    "if c!=0: print(f\"Количество: {c}\\nСумма: {s}\\nСреднее арифметическое: {s/c}\")\n",
    "else: print('Таких чисел нет!')"
   ]
  },
  {
   "cell_type": "code",
   "execution_count": 8,
   "metadata": {},
   "outputs": [
    {
     "name": "stdout",
     "output_type": "stream",
     "text": [
      "Числа больше следующего элемента.\n",
      "Количество: 6\n",
      "Сумма: 693\n",
      "Среднее арифметическое: 115.5\n"
     ]
    }
   ],
   "source": [
    "# Задача 1 пункт e\n",
    "A,c,s = [int(x) for x in input('Введите последовательность чисел: ').split()],0,0\n",
    "for i in range(len(A)-1): \n",
    "    if A[i] > A[i+1]: c+=1; s+=A[i]\n",
    "print('Числа больше следующего элемента.')\n",
    "if c!=0: print(f\"Количество: {c}\\nСумма: {s}\\nСреднее арифметическое: {s/c}\")\n",
    "else: print('Таких чисел нет!')"
   ]
  },
  {
   "cell_type": "code",
   "execution_count": 9,
   "metadata": {},
   "outputs": [
    {
     "name": "stdout",
     "output_type": "stream",
     "text": [
      "Числа делящиеся без остатка на последний элемент.\n",
      "Количество: 3\n",
      "Сумма: 27\n",
      "Среднее арифметическое: 9.0\n"
     ]
    }
   ],
   "source": [
    "# Задача 1 пункт f\n",
    "A,c,s = [int(x) for x in input('Введите последовательность чисел: ').split()],0,0\n",
    "for i in range(len(A)-1): \n",
    "    if A[i] % A[len(A)-1] == 0 and i != [len(A)-1]: c+=1; s+=A[i]\n",
    "print('Числа делящиеся без остатка на последний элемент.')\n",
    "if c!=0: print(f\"Количество: {c}\\nСумма: {s}\\nСреднее арифметическое: {s/c}\")\n",
    "else: print('Таких чисел нет!')"
   ]
  },
  {
   "cell_type": "markdown",
   "metadata": {},
   "source": [
    "# Скользящая средняя"
   ]
  },
  {
   "cell_type": "code",
   "execution_count": 10,
   "metadata": {},
   "outputs": [
    {
     "name": "stdout",
     "output_type": "stream",
     "text": [
      "[1.5, 2.5, 3.5, 4.5]\n"
     ]
    }
   ],
   "source": [
    "S, A = [int(x) for x in input('Введите последовательность чисел: ')], []\n",
    "for i in range(len(S)-1):\n",
    "    A.append((S[i] + S[i+1]) / 2)\n",
    "print(A)"
   ]
  },
  {
   "cell_type": "markdown",
   "metadata": {},
   "source": [
    "# Задача 3"
   ]
  },
  {
   "cell_type": "code",
   "execution_count": 11,
   "metadata": {},
   "outputs": [
    {
     "name": "stdout",
     "output_type": "stream",
     "text": [
      "[10, 13, 16, 19, 22, 25, 25, 28, 31, 31, 31, 34, 34, 34, 37, 37, 37, 37, 40, 43, 46, 46, 46, 46, 46]\n",
      "Число скачков: 12\n",
      "Наибольшее количество подряд идущих одинаковых элементов: 6\n"
     ]
    }
   ],
   "source": [
    "from random import*\n",
    "# sk - это средняя длина ступени или длина скачка проще говоря\n",
    "mec, ec, j, sk, N = 0, 0, 0, int(input('Введите длину ступени: ')), int(input('Введите размер массива: '))\n",
    "A = [randint(1, 10)]\n",
    "for _ in range(1, N):\n",
    "    if choice([True, False]): A.append(A[-1])\n",
    "    else: A.append(A[-1] + sk)\n",
    "\n",
    "for i in range(1, len(A)):\n",
    "    if A[i] > A[i - 1]:j += 1\n",
    "    if A[i] == A[i - 1]: ec += 1\n",
    "    elif ec > mec:\n",
    "        mec = ec\n",
    "        ec = 1\n",
    "if ec > mec: mec = ec\n",
    "print(A)\n",
    "print(f\"Число скачков: {j}\\nНаибольшее количество подряд идущих одинаковых элементов: {mec}\")\n"
   ]
  },
  {
   "cell_type": "markdown",
   "metadata": {},
   "source": [
    "# Задача 4"
   ]
  },
  {
   "cell_type": "code",
   "execution_count": 18,
   "metadata": {},
   "outputs": [
    {
     "name": "stdout",
     "output_type": "stream",
     "text": [
      "[84, -87, 8, -5, -74, 11, 55, -38, 83]\n",
      "6\n"
     ]
    }
   ],
   "source": [
    "N = int(input())\n",
    "c, A = 0, [randint(-100, 100) for _ in range(N)]\n",
    "for _ in range(A.count(0)): A.remove(0)\n",
    "for i in range(len(A)):\n",
    "    if ((A[i] > 0 and A[i-1] < 0) or (A[i] < 0 and A[i-1] > 0)) and i != len(A): c+=1\n",
    "print(A, '\\n', c, sep='')"
   ]
  },
  {
   "cell_type": "markdown",
   "metadata": {},
   "source": [
    "# Distance and Enemies"
   ]
  },
  {
   "cell_type": "code",
   "execution_count": 25,
   "metadata": {},
   "outputs": [
    {
     "name": "stdout",
     "output_type": "stream",
     "text": [
      "Расстояние до мобов: [321, 6531, 321, 6541, 321, 5641, 321, 21] \n",
      "Индексы мобов: [7]\n"
     ]
    }
   ],
   "source": [
    "dist, enemies = [int(x) for x in input('Введите расстояние до мобов: ').split()], []\n",
    "for i in range(len(dist)):\n",
    "    if dist[i] < 100: enemies.append(i)\n",
    "if not enemies: print(\"Нет угроз\")\n",
    "else: print('Расстояние до мобов:',dist,'\\nИндексы мобов:', enemies)"
   ]
  },
  {
   "cell_type": "code",
   "execution_count": 22,
   "metadata": {},
   "outputs": [
    {
     "name": "stdout",
     "output_type": "stream",
     "text": [
      "Расстояние до мобов: [12, 32, 654, 651321, 65423, 65, 1]\n",
      "Коды мобов: [0, 1, 2, 3, 4, 5, 6]\n",
      "Код самого опасного моба: 6\n"
     ]
    }
   ],
   "source": [
    "# Не уточнено откуда должны браться коды существ, поэтому для примера я заполняю массив с \n",
    "# кодами индексами этих существ в массиве с дистанциями. Еще сейчас дистанции и коды мобов связаны порядковыми номерами\n",
    "# потому что я не знаю как их можно еще соотносить. Разве что с помошью словаря, но это уже из другой оперы.\n",
    "dist, enemies = [int(x) for x in input('Введите расстояние до мобов: ').split()], [i for i in range(len(dist))]\n",
    "print(f'Расстояние до мобов: {dist}\\nКоды мобов: {enemies}')\n",
    "if min(dist[:]) < 100: print(\"Код самого опасного моба:\", enemies[dist.index(min(dist[:]))]) # а я думал что min(dist[:] не будет работать\n",
    "else: print('Угроз нет')"
   ]
  }
 ],
 "metadata": {
  "kernelspec": {
   "display_name": "Python 3",
   "language": "python",
   "name": "python3"
  },
  "language_info": {
   "codemirror_mode": {
    "name": "ipython",
    "version": 3
   },
   "file_extension": ".py",
   "mimetype": "text/x-python",
   "name": "python",
   "nbconvert_exporter": "python",
   "pygments_lexer": "ipython3",
   "version": "3.12.6"
  }
 },
 "nbformat": 4,
 "nbformat_minor": 2
}
